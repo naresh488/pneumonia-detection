{
 "cells": [
  {
   "cell_type": "markdown",
   "metadata": {},
   "source": [
    "# Final Review: Major Pneumonia Detection\n",
    "\n",
    "This notebook contains the code for training and evaluating a pneumonia detection model using deep learning techniques. It includes data preprocessing, model architecture, training, and visualization of results."
   ]
  },
  {
   "cell_type": "code",
   "execution_count": null,
   "metadata": {},
   "outputs": [],
   "source": [
    "import numpy as np\n",
    "import tensorflow as tf\n",
    "import matplotlib.pyplot as plt\n",
    "from tensorflow.keras.preprocessing.image import ImageDataGenerator\n",
    "from keras.preprocessing import image\n",
    "from tensorflow.keras.optimizers import Adam\n",
    "import cv2\n",
    "from lime import lime_image\n",
    "import time\n",
    "from skimage.segmentation import mark_boundaries\n",
    "import shap\n",
    "from skimage.color import gray2rgb, rgb2gray, label2rgb\n"
   ]
  },
  {
   "cell_type": "code",
   "execution_count": null,
   "metadata": {},
   "outputs": [],
   "source": [
    "# Data Preprocessing\n",
    "train_datagen = ImageDataGenerator(rescale=1./255, shear_range=0.2, zoom_range=0.2, horizontal_flip=True)\n",
    "train_images = r\"C:\\Users\\lucky\\Downloads\\archive\\chest_xray\\train\"\n",
    "train_generator = train_datagen.flow_from_directory(train_images, target_size=(300, 300), batch_size=128, class_mode='binary')\n",
    "\n",
    "test_datagen = ImageDataGenerator(rescale=1./255)\n",
    "validation_generator = test_datagen.flow_from_directory(r\"C:\\Users\\lucky\\Downloads\\archive\\chest_xray\\val\", target_size=(300, 300), batch_size=128, class_mode='binary')\n"
   ]
  },
  {
   "cell_type": "code",
   "execution_count": null,
   "metadata": {},
   "outputs": [],
   "source": [
    "# Model Architecture\n",
    "model = tf.keras.models.Sequential([\n",
    "    tf.keras.layers.Conv2D(16, (3, 3), activation='relu', input_shape=(300, 300, 3)),\n",
    "    tf.keras.layers.MaxPool2D(2, 2),\n",
    "    tf.keras.layers.Conv2D(32, (3, 3), activation='relu'),\n",
    "    tf.keras.layers.MaxPool2D(2, 2),\n",
    "    tf.keras.layers.Conv2D(64, (3, 3), activation='relu'),\n",
    "    tf.keras.layers.MaxPool2D(2, 2),\n",
    "    tf.keras.layers.Conv2D(128, (3, 3), activation='relu'),\n",
    "    tf.keras.layers.MaxPool2D(2, 2),\n",
    "    tf.keras.layers.Flatten(),\n",
    "    tf.keras.layers.Dense(256, activation='relu'),\n",
    "    tf.keras.layers.Dense(1, activation='sigmoid')\n",
    "])\n",
    "model.compile(optimizer='adam', loss='binary_crossentropy', metrics=['accuracy'])\n"
   ]
  },
  {
   "cell_type": "code",
   "execution_count": null,
   "metadata": {},
   "outputs": [],
   "source": [
    "# Model Training\n",
    "history = model.fit(train_generator, epochs=2, validation_data=validation_generator)\n"
   ]
  },
  {
   "cell_type": "code",
   "execution_count": null,
   "metadata": {},
   "outputs": [],
   "source": [
    "# Model Evaluation\n",
    "eval_datagen = ImageDataGenerator(rescale=1/255)\n",
    "test_generator = eval_datagen.flow_from_directory(r\"C:\\Users\\lucky\\Downloads\\archive\\chest_xray\\test\", target_size=(300, 300), batch_size=128, class_mode='binary')\n",
    "eval_result = model.evaluate(test_generator, steps=624)\n",
    "print('loss :', eval_result[0])\n",
    "print('accuracy :', eval_result[1])\n"
   ]
  },
  {
   "cell_type": "code",
   "execution_count": null,
   "metadata": {},
   "outputs": [],
   "source": [
    "# LIME Explanation\n",
    "explainer = lime_image.LimeImageExplainer()\n",
    "explanation = explainer.explain_instance(validation_generator.__getitem__(0)[0][11].astype('double'), model.predict, top_labels=1, hide_color=0, num_samples=1000)\n",
    "temp, mask = explanation.get_image_and_mask(explanation.top_labels[0], positive_only=False, num_features=5, hide_rest=False)\n",
    "plt.imshow(mark_boundaries(temp, mask))\n"
   ]
  },
  {
   "cell_type": "code",
   "execution_count": null,
   "metadata": {},
   "outputs": [],
   "source": [
    "# SHAP Explanation\n",
    "background = x_train[np.random.choice(x_train.shape[0], 20, replace=False)]\n",
    "e = shap.DeepExplainer(model, background)\n",
    "shap_values = e.shap_values(x_test[1:3])\n",
    "shap.image_plot(shap_values, x_test[1:3])\n"
   ]
  }
 ],
 "metadata": {
  "kernelspec": {
   "display_name": "Python 3",
   "language": "python",
   "name": "python3"
  },
  "language_info": {
   "codemirror_mode": {
    "name": "ipython",
    "version": 3
   },
   "file_extension": ".ipynb",
   "mimetype": "application/x-ipynb+json",
   "name": "python",
   "nbconvert_exporter": "python",
   "pygments_lexer": "ipython3",
   "version": "3.8.5"
  }
 },
 "nbformat": 4,
 "nbformat_minor": 4
}